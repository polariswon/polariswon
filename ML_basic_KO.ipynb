{
  "nbformat": 4,
  "nbformat_minor": 0,
  "metadata": {
    "colab": {
      "name": "ML_basic_KO.ipynb",
      "provenance": [],
      "authorship_tag": "ABX9TyOzyqbpL2a0VD7QY+/9NlUk",
      "include_colab_link": true
    },
    "kernelspec": {
      "name": "python3",
      "display_name": "Python 3"
    },
    "language_info": {
      "name": "python"
    }
  },
  "cells": [
    {
      "cell_type": "markdown",
      "metadata": {
        "id": "view-in-github",
        "colab_type": "text"
      },
      "source": [
        "<a href=\"https://colab.research.google.com/github/polariswon/polariswon/blob/master/ML_basic_KO.ipynb\" target=\"_parent\"><img src=\"https://colab.research.google.com/assets/colab-badge.svg\" alt=\"Open In Colab\"/></a>"
      ]
    },
    {
      "cell_type": "markdown",
      "metadata": {
        "id": "4z_9YgTEyt9F"
      },
      "source": [
        "# 머신러닝 기초\n"
      ]
    },
    {
      "cell_type": "markdown",
      "metadata": {
        "id": "cAaan26Y61t6"
      },
      "source": [
        "1.선형대수학\n"
      ]
    },
    {
      "cell_type": "markdown",
      "metadata": {
        "id": "J_cukDVw7ALd"
      },
      "source": [
        "1.1. Numpy 행렬"
      ]
    },
    {
      "cell_type": "code",
      "metadata": {
        "colab": {
          "base_uri": "https://localhost:8080/"
        },
        "id": "1cvZY-Y86uNT",
        "outputId": "b3ca98d5-a267-4e99-e33e-b3b648023454"
      },
      "source": [
        "import numpy\n",
        "\n",
        "\n",
        "def main():\n",
        "    print(matrix_tutorial())\n",
        "\n",
        "def matrix_tutorial():\n",
        "    A = [[1,4,5,8],[2,1,7,3],[5,4,5,9]]\n",
        "    return A\n",
        "\n",
        "if __name__ ==\"__main__\":\n",
        "  main()\n"
      ],
      "execution_count": null,
      "outputs": [
        {
          "output_type": "stream",
          "text": [
            "[[1, 4, 5, 8], [2, 1, 7, 3], [5, 4, 5, 9]]\n"
          ],
          "name": "stdout"
        }
      ]
    },
    {
      "cell_type": "markdown",
      "metadata": {
        "id": "ar_fpADV7onr"
      },
      "source": [
        "1.2. Numpy 산술 연산자"
      ]
    },
    {
      "cell_type": "code",
      "metadata": {
        "colab": {
          "base_uri": "https://localhost:8080/"
        },
        "id": "RP9LJMYX7oPa",
        "outputId": "c9381634-5d8e-4745-8ead-a487bac03fd0"
      },
      "source": [
        "import numpy as np\n",
        "\n",
        "def main():\n",
        "    print(matrix_tutorial())\n",
        "\n",
        "def matrix_tutorial():\n",
        "    A = np.array([[1,4,5,8], [2,1,7,3], [5,4,5,9]])\n",
        "\n",
        "    #normalize를 하는 이유: \n",
        "\n",
        "    people = np.array([30,70]) #남 30, 여 70\n",
        "    normalized_people = people/(people[0]+people[1])# 남여 비율이 바뀌더라도 계산이 가능함.\n",
        "    normalized_people = people/np.sum(people) # 남여 외에 나이, 학력등으로 행렬이 증가하더라도 ex([30,120,70])등 상관없이 정규화 가능\n",
        "\n",
        "    # 분산\n",
        "    low_var = np.array([1,0.9,1.2,1.5,0.7,1.0])\n",
        "    high_var = np.array([1,10,5,-20,7,30])\n",
        "\n",
        "    print(\"variance of low_var\",np.var(low_var))\n",
        "    print(\"variance of high_var\",np.var(high_var))\n",
        "\n",
        "    print(normalized_people)\n",
        "\n",
        "\n",
        "    # 아래 코드를 작성하세요.\n",
        "        \n",
        "    C = np.sum(A)\n",
        "    \n",
        "    A = A*1/C\n",
        "    \n",
        "    B = np.var(A)\n",
        "\n",
        "    return B\n",
        "\n",
        "if __name__ == \"__main__\":\n",
        "    main()"
      ],
      "execution_count": null,
      "outputs": [
        {
          "output_type": "stream",
          "text": [
            "variance of low_var 0.0625\n",
            "variance of high_var 215.58333333333334\n",
            "[0.3 0.7]\n",
            "0.0020861911294010062\n"
          ],
          "name": "stdout"
        }
      ]
    },
    {
      "cell_type": "markdown",
      "metadata": {
        "id": "eUN5aDrW71Lh"
      },
      "source": [
        "1.3. Numpy 논리 연산자"
      ]
    },
    {
      "cell_type": "code",
      "metadata": {
        "colab": {
          "base_uri": "https://localhost:8080/"
        },
        "id": "iP_9maRN78bc",
        "outputId": "26898cba-5ed8-4fa9-da3b-fb32ebc3bce4"
      },
      "source": [
        "import numpy as np\n",
        "\n",
        "def main():\n",
        "    A = get_matrix()\n",
        "    print(A)\n",
        "    print(matrix_tutorial(A))\n",
        "    \n",
        "\n",
        "def get_matrix():\n",
        "    mat = []\n",
        "    first_row = input()\n",
        "    n = int(first_row.split(' ')[0]) # input함수로 받은 변수가 숫자로 변경됨\n",
        "    m = int(first_row.split(' ')[1]) # input함수로 받은 변수가 숫자로 변경됨\n",
        "    for i in range(n):\n",
        "        row = input()\n",
        "        mat.append([int(x) for x in row.split(' ')]) # 공백으로 Split을 함\n",
        "       \n",
        "     \n",
        "  \n",
        "    return np.array(mat)\n",
        "  \n",
        "def matrix_tutorial(A):\n",
        "    \n",
        "    # 아래 코드를 완성하세요.\n",
        "    B = A.T\n",
        "    print(B)\n",
        "    try:\n",
        "        C = np.linalg.inv(B)\n",
        "    except:\n",
        "        return \"not invertible\"\n",
        "    return(np.sum(C>0))\n",
        "   \n",
        "\n",
        "if __name__ == \"__main__\":\n",
        "    main()\n"
      ],
      "execution_count": null,
      "outputs": [
        {
          "output_type": "stream",
          "text": [
            "1 2 3\n",
            "4 5 6\n",
            "[[4 5 6]]\n",
            "[[4]\n",
            " [5]\n",
            " [6]]\n",
            "not invertible\n"
          ],
          "name": "stdout"
        }
      ]
    },
    {
      "cell_type": "markdown",
      "metadata": {
        "id": "4ULd-3cJ84XF"
      },
      "source": [
        "1.4. 논리 연산자\n"
      ]
    },
    {
      "cell_type": "code",
      "metadata": {
        "colab": {
          "base_uri": "https://localhost:8080/"
        },
        "id": "peNbz8p9lYp4",
        "outputId": "f3621a1b-8a50-4ee6-d780-d54ff9b09345"
      },
      "source": [
        "import numpy as np\n",
        "\n",
        "def main():\n",
        "    A = get_matrix()\n",
        "    print(A)\n",
        "    print(matrix_tutorial(A))\n",
        "    \n",
        "\n",
        "def get_matrix():\n",
        "    mat = []\n",
        "    first_row = input()\n",
        "    n = int(first_row.split(' ')[0]) # 행의 갯수\n",
        "    m = int(first_row.split(' ')[1]) # 열의 갯수\n",
        "    for i in range(n):\n",
        "        row = input()\n",
        "        mat.append([int(x) for x in row.split(' ')])\n",
        "           \n",
        "  \n",
        "    return np.array(mat)\n",
        "  \n",
        "def matrix_tutorial(A):\n",
        "    \n",
        "    # 아래 코드를 완성하세요.\n",
        "    B = A.T\n",
        "    print(B)\n",
        "    try:\n",
        "        C = np.linalg.inv(B)\n",
        "    except:\n",
        "        return \"not invertible\"\n",
        "    return(np.sum(C>0))\n",
        "   \n",
        "\n",
        "if __name__ == \"__main__\":\n",
        "    main()"
      ],
      "execution_count": null,
      "outputs": [
        {
          "output_type": "stream",
          "text": [
            "2 2\n",
            "1 2\n",
            "3 4\n",
            "[[1 2]\n",
            " [3 4]]\n",
            "[[1 3]\n",
            " [2 4]]\n",
            "2\n"
          ],
          "name": "stdout"
        }
      ]
    },
    {
      "cell_type": "code",
      "metadata": {
        "id": "3R-dyisEldpt"
      },
      "source": [
        "import matplotlib as mpl\n",
        "mpl.use(\"Agg\")\n",
        "import matplotlib.pyplot as plt\n",
        "import numpy as np\n",
        "\n",
        "def circle(P):\n",
        "    return np.linalg.norm(P) - 1 # 밑의 코드와 동일하게 동작합니다.\n",
        "    # return np.sqrt(np.sum(P * P)) - 1\n",
        "    \n",
        "def diamond(P):\n",
        "    return np.abs(P[0]) + np.abs(P[1]) - 1\n",
        "    \n",
        "def smile(P):\n",
        "    def left_eye(P):\n",
        "        eye_pos = P - np.array([-0.5, 0.5])\n",
        "        return np.sqrt(np.sum(eye_pos * eye_pos)) - 0.1\n",
        "    \n",
        "    def right_eye(P):\n",
        "        eye_pos = P - np.array([0.5, 0.5])\n",
        "        return np.sqrt(np.sum(eye_pos * eye_pos)) - 0.1\n",
        "    \n",
        "    def mouth(P):\n",
        "        if P[1] < 0:\n",
        "            return np.sqrt(np.sum(P * P)) - 0.7\n",
        "        else:\n",
        "            return 1\n",
        "    \n",
        "    return circle(P) * left_eye(P) * right_eye(P) * mouth(P)\n",
        "\n",
        "def checker(P, shape, tolerance):\n",
        "    return abs(shape(P)) < tolerance\n",
        "\n",
        "def sample(num_points, xrange, yrange, shape, tolerance):\n",
        "    accepted_points = []\n",
        "    rejected_points = []\n",
        "    \n",
        "    for i in range(num_points):\n",
        "        x = np.random.random() * (xrange[1] - xrange[0]) + xrange[0]\n",
        "        y = np.random.random() * (yrange[1] - yrange[0]) + yrange[0]\n",
        "        P = np.array([x, y])\n",
        "        \n",
        "        if (checker(P, shape, tolerance)):\n",
        "            accepted_points.append(P)\n",
        "        else:\n",
        "            rejected_points.append(P)\n",
        "    \n",
        "    return np.array(accepted_points), np.array(rejected_points)\n",
        "\n",
        "xrange = [-1.5, 1.5] # X축 범위입니다.\n",
        "yrange = [-1.5, 1.5] # Y축 범위입니다.\n",
        "accepted_points, rejected_points = sample(100000, #  점의 개수를 줄이거나 늘려서 실행해 보세요. 너무 많이 늘리면 시간이 오래 걸리는 것에 주의합니다.\n",
        "    xrange, \n",
        "    yrange, \n",
        "    smile, # smile을 circle 이나 diamond 로 바꿔서 실행해 보세요.\n",
        "    0.005) # Threshold를 0.01이나 0.0001 같은 다른 값으로 변경해 보세요.\n",
        "\n",
        "plt.figure(figsize=(xrange[1] - xrange[0], yrange[1] - yrange[0]), \n",
        "           dpi=150) # 그림이 제대로 로드되지 않는다면 DPI를 줄여보세요.\n",
        "           \n",
        "plt.scatter(rejected_points[:, 0], rejected_points[:, 1], c='lightgray', s=0.1)\n",
        "plt.scatter(accepted_points[:, 0], accepted_points[:, 1], c='black', s=1)\n",
        "\n",
        "plt.savefig(\"graph.png\")\n"
      ],
      "execution_count": null,
      "outputs": []
    },
    {
      "cell_type": "markdown",
      "metadata": {
        "id": "ixxJLFiXzAA5"
      },
      "source": [
        "2.회귀 분석"
      ]
    },
    {
      "cell_type": "markdown",
      "metadata": {
        "id": "eaWw9e7VzRqW"
      },
      "source": [
        "2.1. 기울기와 절편"
      ]
    },
    {
      "cell_type": "code",
      "metadata": {
        "colab": {
          "base_uri": "https://localhost:8080/",
          "height": 269
        },
        "id": "iIrHl5bXzCG9",
        "outputId": "8e7b4e34-a5c8-425e-d6c3-648caed2a53f"
      },
      "source": [
        "import matplotlib.pyplot as plt\n",
        "mpl.use(\"Agg\")\n",
        "import matplotlib.pyplot as plt\n",
        "import numpy as np\n",
        "%matplotlib inline\n",
        "\n",
        "X = [8.70153760, 3.90825773, 1.89362433, 3.28730045, 7.39333004, 2.98984649, 2.25757240, 9.84450732, 9.94589513, 5.48321616]\n",
        "Y = [5.64413093, 3.75876583, 3.87233310, 4.40990425, 6.43845020, 4.02827829, 2.26105955, 7.15768995, 6.29097441, 5.19692852]\n",
        "\n",
        "# Beta_0와 Beta_1을 변경하면서 그래프에 표시되는 선을 확인해 봄\n",
        "\n",
        "\n",
        "beta_0 = 0.5   # beta_0에 저장된 기울기 값을 조정해보세요. \n",
        "beta_1 = 2 # beta_1에 저장된 절편 값을 조정해보세요.\n",
        "\n",
        "plt.scatter(X, Y) # (x, y) 점을 그립니다.\n",
        "plt.plot([0, 10], [beta_1, 10 * beta_0 + beta_1], c='r') # y = beta_0 * x + beta_1 에 해당하는 선을 그립니다.\n",
        "\n",
        "plt.xlim(0, 10) # 그래프의 X축을 설정합니다.\n",
        "plt.ylim(0, 10) # 그래프의 Y축을 설정합니다.\n",
        "\n",
        "plt.savefig(\"test.png\")"
      ],
      "execution_count": null,
      "outputs": [
        {
          "output_type": "display_data",
          "data": {
            "image/png": "[encoded data removed]",
            "text/plain": [
              "<Figure size 432x288 with 1 Axes>"
            ]
          },
          "metadata": {
            "tags": [],
            "needs_background": "light"
          }
        }
      ]
    },
    {
      "cell_type": "markdown",
      "metadata": {
        "id": "6M7k-OUo0A86"
      },
      "source": [
        "2.2. Loss function"
      ]
    },
    {
      "cell_type": "code",
      "metadata": {
        "colab": {
          "base_uri": "https://localhost:8080/",
          "height": 286
        },
        "id": "RROHOmamz8Se",
        "outputId": "64983d47-fc8a-437b-8159-fcdc4b21ffec"
      },
      "source": [
        "import matplotlib.pyplot as plt\n",
        "mpl.use(\"Agg\")\n",
        "import matplotlib.pyplot as plt\n",
        "import numpy as np\n",
        "%matplotlib inline\n",
        "def loss(x, y, beta_0, beta_1):\n",
        "    N = len(x)\n",
        "    \n",
        "    '''\n",
        "    x, y, beta_0, beta_1 을 이용해 loss값을 계산한 뒤 리턴합니다.\n",
        "    \n",
        "    '''\n",
        "    total_loss = 0\n",
        "    '''\n",
        "    for i in range(N):\n",
        "        y_i = y[i] #실제 y(i)\n",
        "        x_i = x[i] # 실제 x(i)\n",
        "        y_pre = beta_0 * x_i +beta_1\n",
        "        diff = (y_i - y_pre)**2\n",
        "        total_loss += diff\n",
        "    '''\n",
        "    x = np.array(x) # list에서 numpy로 for 안돌려도 전체 스칼라를 한번에 할 수 있음.\n",
        "    y = np.array(y)\n",
        "    \n",
        "    y_pre = beta_0 * x + beta_1\n",
        "    total_loss = np.sum((y - y_pre)**2)\n",
        "\n",
        "    return total_loss\n",
        "\n",
        "X = [8.70153760, 3.90825773, 1.89362433, 3.28730045, 7.39333004, 2.98984649, 2.25757240, 9.84450732, 9.94589513, 5.48321616]\n",
        "Y = [5.64413093, 3.75876583, 3.87233310, 4.40990425, 6.43845020, 4.02827829, 2.26105955, 7.15768995, 6.29097441, 5.19692852]\n",
        "\n",
        "beta_0 = 1 # 기울기\n",
        "beta_1 = 0.5 # 절편\n",
        "\n",
        "print(\"Loss: %f\" % loss(X, Y, beta_0, beta_1))\n",
        "\n",
        "plt.scatter(X, Y) # (x, y) 점을 그립니다.\n",
        "plt.plot([0, 10], [beta_1, 10 * beta_0 + beta_1], c='r') # y = beta_0 * x + beta_1 에 해당하는 선을 그립니다.\n",
        "\n",
        "plt.xlim(0, 10) # 그래프의 X축을 설정합니다.\n",
        "plt.ylim(0, 10) # 그래프의 Y축을 설정합니다.\n",
        "plt.savefig(\"test.png\") # 저장 후 엘리스에 이미지를 표시합니다.\n"
      ],
      "execution_count": null,
      "outputs": [
        {
          "output_type": "stream",
          "text": [
            "Loss: 46.341726\n"
          ],
          "name": "stdout"
        },
        {
          "output_type": "display_data",
          "data": {
            "image/png": "[encoded data removed]",
            "text/plain": [
              "<Figure size 432x288 with 1 Axes>"
            ]
          },
          "metadata": {
            "tags": [],
            "needs_background": "light"
          }
        }
      ]
    },
    {
      "cell_type": "markdown",
      "metadata": {
        "id": "MyJoRy3q0Kbj"
      },
      "source": [
        "2.3. Scikit-learn을 이용한 회귀 분석\n"
      ]
    },
    {
      "cell_type": "code",
      "metadata": {
        "colab": {
          "base_uri": "https://localhost:8080/",
          "height": 320
        },
        "id": "oQxjkoaJ0Puo",
        "outputId": "cd2ec1f8-ab81-4729-e5f7-a11562dca7e2"
      },
      "source": [
        "import matplotlib as mpl\n",
        "mpl.use(\"Agg\")\n",
        "import matplotlib.pyplot as plt\n",
        "import numpy as np\n",
        "from sklearn.linear_model import LinearRegression\n",
        "%matplotlib inline\n",
        "\n",
        "\n",
        "def loss(x, y, beta_0, beta_1):\n",
        "    N = len(x)\n",
        "    \n",
        "    '''\n",
        "    이전 실습에서 구현한 loss function을 여기에 붙여넣습니다.\n",
        "    '''\n",
        "    x = np.array(x)\n",
        "    y = np.array(y)\n",
        "    total_loss = np.sum((y-(beta_0*x+beta_1))**2)\n",
        "    \n",
        "    return total_loss\n",
        "    \n",
        "    \n",
        "X = [8.70153760, 3.90825773, 1.89362433, 3.28730045, 7.39333004, 2.98984649, 2.25757240, 9.84450732, 9.94589513, 5.48321616]\n",
        "Y = [5.64413093, 3.75876583, 3.87233310, 4.40990425, 6.43845020, 4.02827829, 2.26105955, 7.15768995, 6.29097441, 5.19692852]\n",
        "\n",
        "train_X = np.array(X).reshape(-1,1) #하나의 행이 하나의 데이터를 가지고 있도록 변경\n",
        "train_Y = np.array(Y).reshape(-1,1)\n",
        "\n",
        "\n",
        "\n",
        "'''\n",
        "여기에서 모델을 트레이닝합니다.\n",
        "'''\n",
        "lrmodel = LinearRegression()\n",
        "lrmodel.fit(train_X,train_Y)\n",
        "\n",
        "'''\n",
        "loss가 최소가 되는 직선의 기울기와 절편을 계산함\n",
        "'''\n",
        "beta_0 = lrmodel.coef_[0]   # lrmodel로 구한 직선의 기울기\n",
        "beta_1 = lrmodel.intercept_ # lrmodel로 구한 직선의 y절편\n",
        "\n",
        "print(\"beta_0: %f\" % beta_0)\n",
        "print(\"beta_1: %f\" % beta_1)\n",
        "print(\"Loss: %f\" % loss(X, Y, beta_0, beta_1))\n",
        "\n",
        "plt.scatter(X, Y) # (x, y) 점을 그립니다.\n",
        "plt.plot([0, 10], [beta_1, 10 * beta_0 + beta_1], c='r') # y = beta_0 * x + beta_1 에 해당하는 선을 그립니다.\n",
        "\n",
        "plt.xlim(0, 10) # 그래프의 X축을 설정합니다.\n",
        "plt.ylim(0, 10) # 그래프의 Y축을 설정합니다.\n",
        "plt.savefig(\"test.png\") # 저장 후 엘리스에 이미지를 표시합니다."
      ],
      "execution_count": null,
      "outputs": [
        {
          "output_type": "stream",
          "text": [
            "beta_0: 0.430781\n",
            "beta_1: 2.506181\n",
            "Loss: 3.721640\n"
          ],
          "name": "stdout"
        },
        {
          "output_type": "display_data",
          "data": {
            "image/png": "[encoded data removed]",
            "text/plain": [
              "<Figure size 432x288 with 1 Axes>"
            ]
          },
          "metadata": {
            "tags": [],
            "needs_background": "light"
          }
        }
      ]
    },
    {
      "cell_type": "markdown",
      "metadata": {
        "id": "1pJkCjrQ02EY"
      },
      "source": [
        "2.4. 다중회귀분석"
      ]
    },
    {
      "cell_type": "code",
      "metadata": {
        "colab": {
          "base_uri": "https://localhost:8080/"
        },
        "id": "PnBPQkjA06vE",
        "outputId": "e18682ab-2bbe-4a6f-a997-38bed0289928"
      },
      "source": [
        "import numpy as np\n",
        "from sklearn.linear_model import LinearRegression\n",
        "from sklearn.metrics import r2_score\n",
        "%matplotlib inline\n",
        "'''\n",
        "./data/Advertising.csv 에서 데이터를 읽어, X와 Y를 만듭니다.\n",
        "\n",
        "X는 (200, 3) 의 shape을 가진 2차원 np.array,\n",
        "Y는 (200,) 의 shape을 가진 1차원 np.array여야 합니다.\n",
        "\n",
        "X는 FB, TV, Newspaper column 에 해당하는 데이터를 저장해야 합니다.\n",
        "Y는 Sales column 에 해당하는 데이터를 저장해야 합니다.\n",
        "'''\n",
        "\n",
        "import csv\n",
        "csvreader = csv.reader(open(\"Advertising.csv\"))\n",
        "\n",
        "x = [] # 파이썬 리스트 형식\n",
        "y = []\n",
        "\n",
        "\n",
        "next(csvreader)# 한줄을 건너 뛰게 됨\n",
        "for line in csvreader :\n",
        "    x_i = [ float(line[1]), float(line[2]), float(line[3]) ]\n",
        "    y_i = float(line[4]) ##문자열 형식으로 저장되기 때문에 float로 실수형으로 변경함.\n",
        "    x.append(x_i)\n",
        "    y.append(y_i)\n",
        "\n",
        "X = np.array(x)\n",
        "Y = np.array(y)\n",
        "\n",
        "lrmodel = LinearRegression()\n",
        "lrmodel.fit(X, Y)\n",
        "\n",
        "beta_0 = lrmodel.coef_[0] # 0번째 변수에 대한 계수 (페이스북)\n",
        "beta_1 = lrmodel.coef_[1] # 1번째 변수에 대한 계수 (TV)\n",
        "beta_2 = lrmodel.coef_[2] # 2번째 변수에 대한 계수 (신문)\n",
        "beta_3 = lrmodel.intercept_ # y절편 (기본 판매량)\n",
        "print(X)\n",
        "print(Y)\n",
        "print(\"beta_0: %f\" % beta_0)\n",
        "print(\"beta_1: %f\" % beta_1)\n",
        "print(\"beta_2: %f\" % beta_2)\n",
        "print(\"beta_3: %f\" % beta_3)\n",
        "\n",
        "def expected_sales(fb, tv, newspaper, beta_0, beta_1, beta_2, beta_3):\n",
        "    '''\n",
        "    FB에 fb만큼, TV에 tv만큼, Newspaper에 newspaper 만큼의 광고비를 사용했고,\n",
        "    트레이닝된 모델의 weight 들이 beta_0, beta_1, beta_2, beta_3 일 때\n",
        "    예상되는 Sales 의 양을 출력합니다.\n",
        "    '''\n",
        "    sales = beta_0 * fb +beta_1 *tv + beta_2 * newspaper +beta_3\n",
        "    \n",
        "    return sales\n",
        "\n",
        "print(\"예상 판매량: %f\" % expected_sales(12,200, 10, beta_0, beta_1, beta_2, beta_3))"
      ],
      "execution_count": null,
      "outputs": [
        {
          "output_type": "stream",
          "text": [
            "[[230.1  37.8  69.2]\n",
            " [ 44.5  39.3  45.1]\n",
            " [ 17.2  45.9  69.3]\n",
            " [151.5  41.3  58.5]\n",
            " [180.8  10.8  58.4]\n",
            " [  8.7  48.9  75. ]\n",
            " [ 57.5  32.8  23.5]\n",
            " [120.2  19.6  11.6]\n",
            " [  8.6   2.1   1. ]\n",
            " [199.8   2.6  21.2]\n",
            " [ 66.1   5.8  24.2]\n",
            " [214.7  24.    4. ]\n",
            " [ 23.8  35.1  65.9]\n",
            " [ 97.5   7.6   7.2]\n",
            " [204.1  32.9  46. ]\n",
            " [195.4  47.7  52.9]\n",
            " [ 67.8  36.6 114. ]\n",
            " [281.4  39.6  55.8]\n",
            " [ 69.2  20.5  18.3]\n",
            " [147.3  23.9  19.1]\n",
            " [218.4  27.7  53.4]\n",
            " [237.4   5.1  23.5]\n",
            " [ 13.2  15.9  49.6]\n",
            " [228.3  16.9  26.2]\n",
            " [ 62.3  12.6  18.3]\n",
            " [262.9   3.5  19.5]\n",
            " [142.9  29.3  12.6]\n",
            " [240.1  16.7  22.9]\n",
            " [248.8  27.1  22.9]\n",
            " [ 70.6  16.   40.8]\n",
            " [292.9  28.3  43.2]\n",
            " [112.9  17.4  38.6]\n",
            " [ 97.2   1.5  30. ]\n",
            " [265.6  20.    0.3]\n",
            " [ 95.7   1.4   7.4]\n",
            " [290.7   4.1   8.5]\n",
            " [266.9  43.8   5. ]\n",
            " [ 74.7  49.4  45.7]\n",
            " [ 43.1  26.7  35.1]\n",
            " [228.   37.7  32. ]\n",
            " [202.5  22.3  31.6]\n",
            " [177.   33.4  38.7]\n",
            " [293.6  27.7   1.8]\n",
            " [206.9   8.4  26.4]\n",
            " [ 25.1  25.7  43.3]\n",
            " [175.1  22.5  31.5]\n",
            " [ 89.7   9.9  35.7]\n",
            " [239.9  41.5  18.5]\n",
            " [227.2  15.8  49.9]\n",
            " [ 66.9  11.7  36.8]\n",
            " [199.8   3.1  34.6]\n",
            " [100.4   9.6   3.6]\n",
            " [216.4  41.7  39.6]\n",
            " [182.6  46.2  58.7]\n",
            " [262.7  28.8  15.9]\n",
            " [198.9  49.4  60. ]\n",
            " [  7.3  28.1  41.4]\n",
            " [136.2  19.2  16.6]\n",
            " [210.8  49.6  37.7]\n",
            " [210.7  29.5   9.3]\n",
            " [ 53.5   2.   21.4]\n",
            " [261.3  42.7  54.7]\n",
            " [239.3  15.5  27.3]\n",
            " [102.7  29.6   8.4]\n",
            " [131.1  42.8  28.9]\n",
            " [ 69.    9.3   0.9]\n",
            " [ 31.5  24.6   2.2]\n",
            " [139.3  14.5  10.2]\n",
            " [237.4  27.5  11. ]\n",
            " [216.8  43.9  27.2]\n",
            " [199.1  30.6  38.7]\n",
            " [109.8  14.3  31.7]\n",
            " [ 26.8  33.   19.3]\n",
            " [129.4   5.7  31.3]\n",
            " [213.4  24.6  13.1]\n",
            " [ 16.9  43.7  89.4]\n",
            " [ 27.5   1.6  20.7]\n",
            " [120.5  28.5  14.2]\n",
            " [  5.4  29.9   9.4]\n",
            " [116.    7.7  23.1]\n",
            " [ 76.4  26.7  22.3]\n",
            " [239.8   4.1  36.9]\n",
            " [ 75.3  20.3  32.5]\n",
            " [ 68.4  44.5  35.6]\n",
            " [213.5  43.   33.8]\n",
            " [193.2  18.4  65.7]\n",
            " [ 76.3  27.5  16. ]\n",
            " [110.7  40.6  63.2]\n",
            " [ 88.3  25.5  73.4]\n",
            " [109.8  47.8  51.4]\n",
            " [134.3   4.9   9.3]\n",
            " [ 28.6   1.5  33. ]\n",
            " [217.7  33.5  59. ]\n",
            " [250.9  36.5  72.3]\n",
            " [107.4  14.   10.9]\n",
            " [163.3  31.6  52.9]\n",
            " [197.6   3.5   5.9]\n",
            " [184.9  21.   22. ]\n",
            " [289.7  42.3  51.2]\n",
            " [135.2  41.7  45.9]\n",
            " [222.4   4.3  49.8]\n",
            " [296.4  36.3 100.9]\n",
            " [280.2  10.1  21.4]\n",
            " [187.9  17.2  17.9]\n",
            " [238.2  34.3   5.3]\n",
            " [137.9  46.4  59. ]\n",
            " [ 25.   11.   29.7]\n",
            " [ 90.4   0.3  23.2]\n",
            " [ 13.1   0.4  25.6]\n",
            " [255.4  26.9   5.5]\n",
            " [225.8   8.2  56.5]\n",
            " [241.7  38.   23.2]\n",
            " [175.7  15.4   2.4]\n",
            " [209.6  20.6  10.7]\n",
            " [ 78.2  46.8  34.5]\n",
            " [ 75.1  35.   52.7]\n",
            " [139.2  14.3  25.6]\n",
            " [ 76.4   0.8  14.8]\n",
            " [125.7  36.9  79.2]\n",
            " [ 19.4  16.   22.3]\n",
            " [141.3  26.8  46.2]\n",
            " [ 18.8  21.7  50.4]\n",
            " [224.    2.4  15.6]\n",
            " [123.1  34.6  12.4]\n",
            " [229.5  32.3  74.2]\n",
            " [ 87.2  11.8  25.9]\n",
            " [  7.8  38.9  50.6]\n",
            " [ 80.2   0.    9.2]\n",
            " [220.3  49.    3.2]\n",
            " [ 59.6  12.   43.1]\n",
            " [  0.7  39.6   8.7]\n",
            " [265.2   2.9  43. ]\n",
            " [  8.4  27.2   2.1]\n",
            " [219.8  33.5  45.1]\n",
            " [ 36.9  38.6  65.6]\n",
            " [ 48.3  47.    8.5]\n",
            " [ 25.6  39.    9.3]\n",
            " [273.7  28.9  59.7]\n",
            " [ 43.   25.9  20.5]\n",
            " [184.9  43.9   1.7]\n",
            " [ 73.4  17.   12.9]\n",
            " [193.7  35.4  75.6]\n",
            " [220.5  33.2  37.9]\n",
            " [104.6   5.7  34.4]\n",
            " [ 96.2  14.8  38.9]\n",
            " [140.3   1.9   9. ]\n",
            " [240.1   7.3   8.7]\n",
            " [243.2  49.   44.3]\n",
            " [ 38.   40.3  11.9]\n",
            " [ 44.7  25.8  20.6]\n",
            " [280.7  13.9  37. ]\n",
            " [121.    8.4  48.7]\n",
            " [197.6  23.3  14.2]\n",
            " [171.3  39.7  37.7]\n",
            " [187.8  21.1   9.5]\n",
            " [  4.1  11.6   5.7]\n",
            " [ 93.9  43.5  50.5]\n",
            " [149.8   1.3  24.3]\n",
            " [ 11.7  36.9  45.2]\n",
            " [131.7  18.4  34.6]\n",
            " [172.5  18.1  30.7]\n",
            " [ 85.7  35.8  49.3]\n",
            " [188.4  18.1  25.6]\n",
            " [163.5  36.8   7.4]\n",
            " [117.2  14.7   5.4]\n",
            " [234.5   3.4  84.8]\n",
            " [ 17.9  37.6  21.6]\n",
            " [206.8   5.2  19.4]\n",
            " [215.4  23.6  57.6]\n",
            " [284.3  10.6   6.4]\n",
            " [ 50.   11.6  18.4]\n",
            " [164.5  20.9  47.4]\n",
            " [ 19.6  20.1  17. ]\n",
            " [168.4   7.1  12.8]\n",
            " [222.4   3.4  13.1]\n",
            " [276.9  48.9  41.8]\n",
            " [248.4  30.2  20.3]\n",
            " [170.2   7.8  35.2]\n",
            " [276.7   2.3  23.7]\n",
            " [165.6  10.   17.6]\n",
            " [156.6   2.6   8.3]\n",
            " [218.5   5.4  27.4]\n",
            " [ 56.2   5.7  29.7]\n",
            " [287.6  43.   71.8]\n",
            " [253.8  21.3  30. ]\n",
            " [205.   45.1  19.6]\n",
            " [139.5   2.1  26.6]\n",
            " [191.1  28.7  18.2]\n",
            " [286.   13.9   3.7]\n",
            " [ 18.7  12.1  23.4]\n",
            " [ 39.5  41.1   5.8]\n",
            " [ 75.5  10.8   6. ]\n",
            " [ 17.2   4.1  31.6]\n",
            " [166.8  42.    3.6]\n",
            " [149.7  35.6   6. ]\n",
            " [ 38.2   3.7  13.8]\n",
            " [ 94.2   4.9   8.1]\n",
            " [177.    9.3   6.4]\n",
            " [283.6  42.   66.2]\n",
            " [232.1   8.6   8.7]]\n",
            "[22.1 10.4  9.3 18.5 12.9  7.2 11.8 13.2  4.8 10.6  8.6 17.4  9.2  9.7\n",
            " 19.  22.4 12.5 24.4 11.3 14.6 18.  12.5  5.6 15.5  9.7 12.  15.  15.9\n",
            " 18.9 10.5 21.4 11.9  9.6 17.4  9.5 12.8 25.4 14.7 10.1 21.5 16.6 17.1\n",
            " 20.7 12.9  8.5 14.9 10.6 23.2 14.8  9.7 11.4 10.7 22.6 21.2 20.2 23.7\n",
            "  5.5 13.2 23.8 18.4  8.1 24.2 15.7 14.  18.   9.3  9.5 13.4 18.9 22.3\n",
            " 18.3 12.4  8.8 11.  17.   8.7  6.9 14.2  5.3 11.  11.8 12.3 11.3 13.6\n",
            " 21.7 15.2 12.  16.  12.9 16.7 11.2  7.3 19.4 22.2 11.5 16.9 11.7 15.5\n",
            " 25.4 17.2 11.7 23.8 14.8 14.7 20.7 19.2  7.2  8.7  5.3 19.8 13.4 21.8\n",
            " 14.1 15.9 14.6 12.6 12.2  9.4 15.9  6.6 15.5  7.  11.6 15.2 19.7 10.6\n",
            "  6.6  8.8 24.7  9.7  1.6 12.7  5.7 19.6 10.8 11.6  9.5 20.8  9.6 20.7\n",
            " 10.9 19.2 20.1 10.4 11.4 10.3 13.2 25.4 10.9 10.1 16.1 11.6 16.6 19.\n",
            " 15.6  3.2 15.3 10.1  7.3 12.9 14.4 13.3 14.9 18.  11.9 11.9  8.  12.2\n",
            " 17.1 15.   8.4 14.5  7.6 11.7 11.5 27.  20.2 11.7 11.8 12.6 10.5 12.2\n",
            "  8.7 26.2 17.6 22.6 10.3 17.3 15.9  6.7 10.8  9.9  5.9 19.6 17.3  7.6\n",
            "  9.7 12.8 25.5 13.4]\n",
            "beta_0: 0.045765\n",
            "beta_1: 0.188530\n",
            "beta_2: -0.001037\n",
            "beta_3: 2.938889\n",
            "예상 판매량: 41.183694\n"
          ],
          "name": "stdout"
        }
      ]
    },
    {
      "cell_type": "code",
      "metadata": {
        "colab": {
          "base_uri": "https://localhost:8080/"
        },
        "id": "BonLrDXJ1wF_",
        "outputId": "c876b05b-847b-45ad-8f66-ae33f89a979a"
      },
      "source": [
        "import numpy as np\n",
        "from sklearn.linear_model import LinearRegression\n",
        "from sklearn.metrics import mean_squared_error\n",
        "from sklearn.model_selection import train_test_split\n",
        "\n",
        "'''\n",
        "./data/Advertising.csv 에서 데이터를 읽어, X와 Y를 만듭니다.\n",
        "\n",
        "X는 (200, 3) 의 shape을 가진 2차원 np.array,\n",
        "Y는 (200,) 의 shape을 가진 1차원 np.array여야 합니다.\n",
        "\n",
        "X는 FB, TV, Newspaper column 에 해당하는 데이터를 저장해야 합니다.\n",
        "Y는 Sales column 에 해당하는 데이터를 저장해야 합니다.\n",
        "'''\n",
        "\n",
        "import csv\n",
        "\n",
        "csv_reader = csv.reader(open('./Advertising.csv'))\n",
        "\n",
        "next(csv_reader)\n",
        "x=[]\n",
        "y=[]\n",
        "for line in csv_reader:\n",
        "    x_i = [float(line[1]),float(line[2]),float(line[3])]\n",
        "    y_i = float(line[4])\n",
        "    \n",
        "    x.append(x_i)\n",
        "    y.append(y_i)\n",
        "    \n",
        "X = np.array(x)\n",
        "Y = np.array(y)\n",
        "    \n",
        "    \n",
        "    \n",
        "# 다항식 회귀분석을 진행하기 위해 변수들을 조합합니다.\n",
        "X_poly = []\n",
        "for x_i in X:\n",
        "    X_poly.append([\n",
        "        x_i[0] * x_i[1], # X_1^2\n",
        "        x_i[1] * x_i[2], # X_2\n",
        "        x_i[0] **2, # X_2 * X_3\n",
        "        x_i[2] * x_i[0]# X_3\n",
        "    ])\n",
        "\n",
        "# X, Y를 80:20으로 나눕니다. 80%는 트레이닝 데이터, 20%는 테스트 데이터입니다.\n",
        "\n",
        "x_train, x_test, y_train, y_test = train_test_split(X_poly, Y, test_size=0.2, random_state=50)\n",
        "\n",
        "# x_train, y_train에 대해 다항식 회귀분석을 진행합니다.\n",
        "lrmodel = LinearRegression()\n",
        "lrmodel.fit(x_train, y_train)\n",
        "\n",
        "beta_0 = lrmodel.coef_[0]\n",
        "beta_1 = lrmodel.coef_[1]\n",
        "beta_2 = lrmodel.coef_[2]\n",
        "beta_3 = lrmodel.intercept_ \n",
        "\n",
        "print(\"beta_0: %f\" % beta_0)\n",
        "print(\"beta_1: %f\" % beta_1)\n",
        "print(\"beta_2: %f\" % beta_2)\n",
        "print(\"beta_3: %f\" % beta_3)\n",
        "\n",
        "\n",
        "'''\n",
        "def expected_sales(x_i[0],x_i[1]*x_i[2],x_i[2],beta_0,beta_1,beta_2,beta_3):\n",
        "\n",
        "    sales = beta_0 * (x_i[0]**2) + beta_1*x_i[1]+beta_2*x_i[1]*x_i[2]+beta_2*x_i[2]+beta_3\n",
        "    \n",
        "    \n",
        "    return sales\n",
        "'''    \n",
        "#x_train에 대해, 만든 회귀모델의 예측값을 구하고, 이 값과 y_train 의 차이를 이용해 MSE를 구합니다.\n",
        "predicted_y_train = lrmodel.predict(x_train)\n",
        "mse_train = mean_squared_error(y_train, predicted_y_train)\n",
        "print(\"MSE on train data: {}\".format(mse_train))\n",
        "\n",
        "# x_test에 대해, 만든 회귀모델의 예측값을 구하고, 이 값과 y_test 의 차이를 이용해 MSE를 구합니다. 이 값이 1 미만이 되도록 모델을 구성해 봅니다.\n",
        "predicted_y_test = lrmodel.predict(x_test)\n",
        "mse_test = mean_squared_error(y_test, predicted_y_test)\n",
        "print(\"MSE on test data: {}\".format(mse_test))"
      ],
      "execution_count": null,
      "outputs": [
        {
          "output_type": "stream",
          "text": [
            "beta_0: 0.001341\n",
            "beta_1: -0.000185\n",
            "beta_2: 0.000032\n",
            "beta_3: 8.308199\n",
            "MSE on train data: 1.5313694510644986\n",
            "MSE on test data: 0.8938102131413188\n"
          ],
          "name": "stdout"
        }
      ]
    }
  ]
}